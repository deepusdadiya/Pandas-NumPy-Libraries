{
 "cells": [
  {
   "cell_type": "markdown",
   "id": "7f6d226a",
   "metadata": {},
   "source": [
    "### reshape() function:"
   ]
  },
  {
   "cell_type": "code",
   "execution_count": 1,
   "id": "a6b317e8",
   "metadata": {},
   "outputs": [],
   "source": [
    "import numpy as np"
   ]
  },
  {
   "cell_type": "code",
   "execution_count": 2,
   "id": "565a9b2d",
   "metadata": {},
   "outputs": [],
   "source": [
    "example  = np.arange(1, 16)"
   ]
  },
  {
   "cell_type": "code",
   "execution_count": 3,
   "id": "005c6988",
   "metadata": {},
   "outputs": [
    {
     "data": {
      "text/plain": [
       "array([ 1,  2,  3,  4,  5,  6,  7,  8,  9, 10, 11, 12, 13, 14, 15])"
      ]
     },
     "execution_count": 3,
     "metadata": {},
     "output_type": "execute_result"
    }
   ],
   "source": [
    "example"
   ]
  },
  {
   "cell_type": "code",
   "execution_count": 4,
   "id": "6e6cb8e4",
   "metadata": {},
   "outputs": [
    {
     "data": {
      "text/plain": [
       "array([[ 1,  2,  3,  4,  5],\n",
       "       [ 6,  7,  8,  9, 10],\n",
       "       [11, 12, 13, 14, 15]])"
      ]
     },
     "execution_count": 4,
     "metadata": {},
     "output_type": "execute_result"
    }
   ],
   "source": [
    "example.reshape((3, 5))"
   ]
  },
  {
   "cell_type": "code",
   "execution_count": 5,
   "id": "9e300840",
   "metadata": {},
   "outputs": [],
   "source": [
    "array = example.reshape((1, 15))"
   ]
  },
  {
   "cell_type": "code",
   "execution_count": 6,
   "id": "09c6a007",
   "metadata": {},
   "outputs": [
    {
     "data": {
      "text/plain": [
       "array([[ 1,  2,  3,  4,  5,  6,  7,  8,  9, 10, 11, 12, 13, 14, 15]])"
      ]
     },
     "execution_count": 6,
     "metadata": {},
     "output_type": "execute_result"
    }
   ],
   "source": [
    "array"
   ]
  },
  {
   "cell_type": "code",
   "execution_count": 7,
   "id": "9e894f8f",
   "metadata": {},
   "outputs": [
    {
     "data": {
      "text/plain": [
       "1"
      ]
     },
     "execution_count": 7,
     "metadata": {},
     "output_type": "execute_result"
    }
   ],
   "source": [
    "example.ndim"
   ]
  },
  {
   "cell_type": "code",
   "execution_count": 8,
   "id": "af042874",
   "metadata": {},
   "outputs": [
    {
     "data": {
      "text/plain": [
       "2"
      ]
     },
     "execution_count": 8,
     "metadata": {},
     "output_type": "execute_result"
    }
   ],
   "source": [
    "array.ndim"
   ]
  },
  {
   "cell_type": "code",
   "execution_count": 9,
   "id": "b0050107",
   "metadata": {},
   "outputs": [
    {
     "ename": "ValueError",
     "evalue": "cannot reshape array of size 15 into shape (4,3)",
     "output_type": "error",
     "traceback": [
      "\u001b[0;31m---------------------------------------------------------------------------\u001b[0m",
      "\u001b[0;31mValueError\u001b[0m                                Traceback (most recent call last)",
      "Cell \u001b[0;32mIn[9], line 1\u001b[0m\n\u001b[0;32m----> 1\u001b[0m example\u001b[38;5;241m.\u001b[39mreshape((\u001b[38;5;241m4\u001b[39m, \u001b[38;5;241m3\u001b[39m))\n",
      "\u001b[0;31mValueError\u001b[0m: cannot reshape array of size 15 into shape (4,3)"
     ]
    }
   ],
   "source": [
    "example.reshape((4, 3)) # cant shape 15 into 12 elements"
   ]
  },
  {
   "cell_type": "markdown",
   "id": "64fa152f",
   "metadata": {},
   "source": [
    "### argmax() function:"
   ]
  },
  {
   "cell_type": "code",
   "execution_count": 10,
   "id": "dd05938e",
   "metadata": {},
   "outputs": [],
   "source": [
    "array = np.random.randint(0, 50, 10)"
   ]
  },
  {
   "cell_type": "code",
   "execution_count": 11,
   "id": "6e035652",
   "metadata": {},
   "outputs": [
    {
     "data": {
      "text/plain": [
       "46"
      ]
     },
     "execution_count": 11,
     "metadata": {},
     "output_type": "execute_result"
    }
   ],
   "source": [
    "array.max()"
   ]
  },
  {
   "cell_type": "code",
   "execution_count": 12,
   "id": "636ad944",
   "metadata": {},
   "outputs": [
    {
     "data": {
      "text/plain": [
       "1"
      ]
     },
     "execution_count": 12,
     "metadata": {},
     "output_type": "execute_result"
    }
   ],
   "source": [
    "array.argmax()    # position of max value"
   ]
  },
  {
   "cell_type": "code",
   "execution_count": 13,
   "id": "84843c90",
   "metadata": {},
   "outputs": [
    {
     "data": {
      "text/plain": [
       "array([38, 46,  5,  4, 42, 15, 40, 34, 22,  7])"
      ]
     },
     "execution_count": 13,
     "metadata": {},
     "output_type": "execute_result"
    }
   ],
   "source": [
    "array"
   ]
  },
  {
   "cell_type": "code",
   "execution_count": 14,
   "id": "125431ee",
   "metadata": {},
   "outputs": [],
   "source": [
    "array2 = np.random.randint(0, 50, (4, 3))"
   ]
  },
  {
   "cell_type": "code",
   "execution_count": 15,
   "id": "eb928e62",
   "metadata": {},
   "outputs": [
    {
     "data": {
      "text/plain": [
       "array([[42, 33, 11],\n",
       "       [ 1, 48, 20],\n",
       "       [31, 12, 43],\n",
       "       [44, 19, 35]])"
      ]
     },
     "execution_count": 15,
     "metadata": {},
     "output_type": "execute_result"
    }
   ],
   "source": [
    "array2"
   ]
  },
  {
   "cell_type": "code",
   "execution_count": 16,
   "id": "194c6c03",
   "metadata": {},
   "outputs": [
    {
     "data": {
      "text/plain": [
       "48"
      ]
     },
     "execution_count": 16,
     "metadata": {},
     "output_type": "execute_result"
    }
   ],
   "source": [
    "array2.max()"
   ]
  },
  {
   "cell_type": "code",
   "execution_count": 17,
   "id": "613db4b6",
   "metadata": {},
   "outputs": [
    {
     "data": {
      "text/plain": [
       "4"
      ]
     },
     "execution_count": 17,
     "metadata": {},
     "output_type": "execute_result"
    }
   ],
   "source": [
    "array2.argmax()"
   ]
  },
  {
   "cell_type": "markdown",
   "id": "a8ddfd0d",
   "metadata": {},
   "source": [
    "### argmin() function:"
   ]
  },
  {
   "cell_type": "code",
   "execution_count": 18,
   "id": "6491a810",
   "metadata": {},
   "outputs": [],
   "source": [
    "array3 = np.random.randint(20, 70, 10)"
   ]
  },
  {
   "cell_type": "code",
   "execution_count": 19,
   "id": "6e954b7e",
   "metadata": {},
   "outputs": [
    {
     "data": {
      "text/plain": [
       "array([58, 54, 29, 26, 32, 42, 23, 37, 50, 67])"
      ]
     },
     "execution_count": 19,
     "metadata": {},
     "output_type": "execute_result"
    }
   ],
   "source": [
    "array3"
   ]
  },
  {
   "cell_type": "code",
   "execution_count": 20,
   "id": "6cd1b203",
   "metadata": {},
   "outputs": [
    {
     "data": {
      "text/plain": [
       "23"
      ]
     },
     "execution_count": 20,
     "metadata": {},
     "output_type": "execute_result"
    }
   ],
   "source": [
    "array3.min()"
   ]
  },
  {
   "cell_type": "code",
   "execution_count": 21,
   "id": "d8c79b3d",
   "metadata": {},
   "outputs": [
    {
     "data": {
      "text/plain": [
       "6"
      ]
     },
     "execution_count": 21,
     "metadata": {},
     "output_type": "execute_result"
    }
   ],
   "source": [
    "array3.argmin()"
   ]
  },
  {
   "cell_type": "code",
   "execution_count": 22,
   "id": "368a82cf",
   "metadata": {},
   "outputs": [],
   "source": [
    "array4 = np.random.randint(20, 70, (5, 3))"
   ]
  },
  {
   "cell_type": "code",
   "execution_count": 23,
   "id": "268fdd24",
   "metadata": {},
   "outputs": [
    {
     "data": {
      "text/plain": [
       "array([[33, 25, 42],\n",
       "       [32, 67, 20],\n",
       "       [23, 47, 48],\n",
       "       [26, 57, 63],\n",
       "       [60, 27, 40]])"
      ]
     },
     "execution_count": 23,
     "metadata": {},
     "output_type": "execute_result"
    }
   ],
   "source": [
    "array4"
   ]
  },
  {
   "cell_type": "code",
   "execution_count": 24,
   "id": "b285afef",
   "metadata": {},
   "outputs": [
    {
     "data": {
      "text/plain": [
       "20"
      ]
     },
     "execution_count": 24,
     "metadata": {},
     "output_type": "execute_result"
    }
   ],
   "source": [
    "array4.min()"
   ]
  },
  {
   "cell_type": "code",
   "execution_count": 25,
   "id": "382f8241",
   "metadata": {},
   "outputs": [
    {
     "data": {
      "text/plain": [
       "5"
      ]
     },
     "execution_count": 25,
     "metadata": {},
     "output_type": "execute_result"
    }
   ],
   "source": [
    "array4.argmin()"
   ]
  },
  {
   "cell_type": "markdown",
   "id": "e457a3e8",
   "metadata": {},
   "source": [
    "### Concatenate() function:"
   ]
  },
  {
   "cell_type": "code",
   "execution_count": 26,
   "id": "fd5baf93",
   "metadata": {},
   "outputs": [],
   "source": [
    "array1 = np.array([1, 2, 3, 4])\n",
    "array2 = np.array([5, 6, 7, 8])"
   ]
  },
  {
   "cell_type": "code",
   "execution_count": 27,
   "id": "55109daa",
   "metadata": {},
   "outputs": [
    {
     "data": {
      "text/plain": [
       "array([1, 2, 3, 4, 5, 6, 7, 8])"
      ]
     },
     "execution_count": 27,
     "metadata": {},
     "output_type": "execute_result"
    }
   ],
   "source": [
    "np.concatenate((array1, array2)) # concatenate 1D arrays"
   ]
  },
  {
   "cell_type": "code",
   "execution_count": 28,
   "id": "9282129b",
   "metadata": {},
   "outputs": [],
   "source": [
    "array3 = np.arange(1, 7).reshape((2, 3))"
   ]
  },
  {
   "cell_type": "code",
   "execution_count": 29,
   "id": "fb41f4d5",
   "metadata": {},
   "outputs": [
    {
     "data": {
      "text/plain": [
       "array([[1, 2, 3],\n",
       "       [4, 5, 6]])"
      ]
     },
     "execution_count": 29,
     "metadata": {},
     "output_type": "execute_result"
    }
   ],
   "source": [
    "array3"
   ]
  },
  {
   "cell_type": "code",
   "execution_count": 30,
   "id": "2fd8d2ce",
   "metadata": {},
   "outputs": [],
   "source": [
    "array4 = np.array([[7, 8, 9], [10, 11, 12]])"
   ]
  },
  {
   "cell_type": "code",
   "execution_count": 31,
   "id": "b552b4e7",
   "metadata": {},
   "outputs": [
    {
     "data": {
      "text/plain": [
       "array([[ 7,  8,  9],\n",
       "       [10, 11, 12]])"
      ]
     },
     "execution_count": 31,
     "metadata": {},
     "output_type": "execute_result"
    }
   ],
   "source": [
    "array4"
   ]
  },
  {
   "cell_type": "code",
   "execution_count": 32,
   "id": "20b7cc6f",
   "metadata": {},
   "outputs": [
    {
     "data": {
      "text/plain": [
       "array([[ 1,  2,  3],\n",
       "       [ 4,  5,  6],\n",
       "       [ 7,  8,  9],\n",
       "       [10, 11, 12]])"
      ]
     },
     "execution_count": 32,
     "metadata": {},
     "output_type": "execute_result"
    }
   ],
   "source": [
    "np.concatenate([array3, array4]) # concatenate 2D arrays"
   ]
  },
  {
   "cell_type": "code",
   "execution_count": 34,
   "id": "217a7f9c",
   "metadata": {},
   "outputs": [
    {
     "data": {
      "text/plain": [
       "array([[ 1,  2,  3,  7,  8,  9],\n",
       "       [ 4,  5,  6, 10, 11, 12]])"
      ]
     },
     "execution_count": 34,
     "metadata": {},
     "output_type": "execute_result"
    }
   ],
   "source": [
    "np.concatenate([array3, array4], axis=1) # concatenate 2D arrays along columns"
   ]
  },
  {
   "cell_type": "code",
   "execution_count": 35,
   "id": "d65b2437",
   "metadata": {},
   "outputs": [
    {
     "ename": "ValueError",
     "evalue": "all the input arrays must have same number of dimensions, but the array at index 0 has 1 dimension(s) and the array at index 1 has 2 dimension(s)",
     "output_type": "error",
     "traceback": [
      "\u001b[0;31m---------------------------------------------------------------------------\u001b[0m",
      "\u001b[0;31mValueError\u001b[0m                                Traceback (most recent call last)",
      "Cell \u001b[0;32mIn[35], line 1\u001b[0m\n\u001b[0;32m----> 1\u001b[0m np\u001b[38;5;241m.\u001b[39mconcatenate([array1, array3])\n",
      "\u001b[0;31mValueError\u001b[0m: all the input arrays must have same number of dimensions, but the array at index 0 has 1 dimension(s) and the array at index 1 has 2 dimension(s)"
     ]
    }
   ],
   "source": [
    "np.concatenate([array1, array3])"
   ]
  },
  {
   "cell_type": "code",
   "execution_count": 36,
   "id": "692afe86",
   "metadata": {},
   "outputs": [],
   "source": [
    "array5 = np.arange(1, 11).reshape((5, 2))"
   ]
  },
  {
   "cell_type": "code",
   "execution_count": 37,
   "id": "efd50a4b",
   "metadata": {},
   "outputs": [
    {
     "data": {
      "text/plain": [
       "array([[ 1,  2],\n",
       "       [ 3,  4],\n",
       "       [ 5,  6],\n",
       "       [ 7,  8],\n",
       "       [ 9, 10]])"
      ]
     },
     "execution_count": 37,
     "metadata": {},
     "output_type": "execute_result"
    }
   ],
   "source": [
    "array5"
   ]
  },
  {
   "cell_type": "code",
   "execution_count": 38,
   "id": "f536759f",
   "metadata": {},
   "outputs": [
    {
     "ename": "ValueError",
     "evalue": "all the input array dimensions except for the concatenation axis must match exactly, but along dimension 1, the array at index 0 has size 3 and the array at index 1 has size 2",
     "output_type": "error",
     "traceback": [
      "\u001b[0;31m---------------------------------------------------------------------------\u001b[0m",
      "\u001b[0;31mValueError\u001b[0m                                Traceback (most recent call last)",
      "Cell \u001b[0;32mIn[38], line 1\u001b[0m\n\u001b[0;32m----> 1\u001b[0m np\u001b[38;5;241m.\u001b[39mconcatenate([array3, array5])\n",
      "\u001b[0;31mValueError\u001b[0m: all the input array dimensions except for the concatenation axis must match exactly, but along dimension 1, the array at index 0 has size 3 and the array at index 1 has size 2"
     ]
    }
   ],
   "source": [
    "np.concatenate([array3, array5])   # cant concatenate 2D and 1D arrays"
   ]
  },
  {
   "cell_type": "markdown",
   "id": "a934fa51",
   "metadata": {},
   "source": [
    "### Splitting one-dimesional arrays:"
   ]
  },
  {
   "cell_type": "code",
   "execution_count": 40,
   "id": "c72acebb",
   "metadata": {},
   "outputs": [],
   "source": [
    "array = np.array([1,3,5,50,50,2,4,6])"
   ]
  },
  {
   "cell_type": "code",
   "execution_count": 41,
   "id": "8e57dfae",
   "metadata": {},
   "outputs": [
    {
     "data": {
      "text/plain": [
       "[array([1, 3, 5]), array([50, 50]), array([2, 4, 6])]"
      ]
     },
     "execution_count": 41,
     "metadata": {},
     "output_type": "execute_result"
    }
   ],
   "source": [
    "np.split(array, [3, 5]) # split array into 3 parts at index 3 and 5"
   ]
  },
  {
   "cell_type": "code",
   "execution_count": 42,
   "id": "dd3d7e9c",
   "metadata": {},
   "outputs": [],
   "source": [
    "x, y, z = np.split(array, [3, 5]) # unpack the split arrays"
   ]
  },
  {
   "cell_type": "code",
   "execution_count": 43,
   "id": "dbdb7774",
   "metadata": {},
   "outputs": [
    {
     "data": {
      "text/plain": [
       "array([1, 3, 5])"
      ]
     },
     "execution_count": 43,
     "metadata": {},
     "output_type": "execute_result"
    }
   ],
   "source": [
    "x"
   ]
  },
  {
   "cell_type": "code",
   "execution_count": 44,
   "id": "58e69146",
   "metadata": {},
   "outputs": [
    {
     "data": {
      "text/plain": [
       "array([50, 50])"
      ]
     },
     "execution_count": 44,
     "metadata": {},
     "output_type": "execute_result"
    }
   ],
   "source": [
    "y"
   ]
  },
  {
   "cell_type": "code",
   "execution_count": 45,
   "id": "e6825759",
   "metadata": {},
   "outputs": [
    {
     "data": {
      "text/plain": [
       "array([2, 4, 6])"
      ]
     },
     "execution_count": 45,
     "metadata": {},
     "output_type": "execute_result"
    }
   ],
   "source": [
    "z"
   ]
  },
  {
   "cell_type": "code",
   "execution_count": 47,
   "id": "fe1c20b4",
   "metadata": {},
   "outputs": [
    {
     "data": {
      "text/plain": [
       "[array([1, 3]), array([ 5, 50]), array([50,  2]), array([4, 6])]"
      ]
     },
     "execution_count": 47,
     "metadata": {},
     "output_type": "execute_result"
    }
   ],
   "source": [
    "np.split(array, 4) # split into 4 equal parts"
   ]
  },
  {
   "cell_type": "code",
   "execution_count": 48,
   "id": "1f36b566",
   "metadata": {},
   "outputs": [
    {
     "ename": "ValueError",
     "evalue": "array split does not result in an equal division",
     "output_type": "error",
     "traceback": [
      "\u001b[0;31m---------------------------------------------------------------------------\u001b[0m",
      "\u001b[0;31mValueError\u001b[0m                                Traceback (most recent call last)",
      "Cell \u001b[0;32mIn[48], line 1\u001b[0m\n\u001b[0;32m----> 1\u001b[0m np\u001b[38;5;241m.\u001b[39msplit(array, \u001b[38;5;241m5\u001b[39m)\n",
      "File \u001b[0;32m/opt/anaconda3/lib/python3.11/site-packages/numpy/lib/shape_base.py:864\u001b[0m, in \u001b[0;36msplit\u001b[0;34m(ary, indices_or_sections, axis)\u001b[0m\n\u001b[1;32m    862\u001b[0m     N \u001b[38;5;241m=\u001b[39m ary\u001b[38;5;241m.\u001b[39mshape[axis]\n\u001b[1;32m    863\u001b[0m     \u001b[38;5;28;01mif\u001b[39;00m N \u001b[38;5;241m%\u001b[39m sections:\n\u001b[0;32m--> 864\u001b[0m         \u001b[38;5;28;01mraise\u001b[39;00m \u001b[38;5;167;01mValueError\u001b[39;00m(\n\u001b[1;32m    865\u001b[0m             \u001b[38;5;124m'\u001b[39m\u001b[38;5;124marray split does not result in an equal division\u001b[39m\u001b[38;5;124m'\u001b[39m) \u001b[38;5;28;01mfrom\u001b[39;00m \u001b[38;5;28;01mNone\u001b[39;00m\n\u001b[1;32m    866\u001b[0m \u001b[38;5;28;01mreturn\u001b[39;00m array_split(ary, indices_or_sections, axis)\n",
      "\u001b[0;31mValueError\u001b[0m: array split does not result in an equal division"
     ]
    }
   ],
   "source": [
    "np.split(array, 5) # split into 5 equal parts"
   ]
  },
  {
   "cell_type": "markdown",
   "id": "d62ee894",
   "metadata": {},
   "source": [
    "### Splitting two-dimesional arrays:"
   ]
  },
  {
   "cell_type": "code",
   "execution_count": 49,
   "id": "9457e642",
   "metadata": {},
   "outputs": [],
   "source": [
    "array = np.arange(20).reshape(5, 4)"
   ]
  },
  {
   "cell_type": "code",
   "execution_count": 50,
   "id": "99e4b996",
   "metadata": {},
   "outputs": [
    {
     "data": {
      "text/plain": [
       "array([[ 0,  1,  2,  3],\n",
       "       [ 4,  5,  6,  7],\n",
       "       [ 8,  9, 10, 11],\n",
       "       [12, 13, 14, 15],\n",
       "       [16, 17, 18, 19]])"
      ]
     },
     "execution_count": 50,
     "metadata": {},
     "output_type": "execute_result"
    }
   ],
   "source": [
    "array"
   ]
  },
  {
   "cell_type": "code",
   "execution_count": 51,
   "id": "493ac836",
   "metadata": {},
   "outputs": [
    {
     "data": {
      "text/plain": [
       "[array([[0, 1, 2, 3]]),\n",
       " array([[ 4,  5,  6,  7],\n",
       "        [ 8,  9, 10, 11]]),\n",
       " array([[12, 13, 14, 15],\n",
       "        [16, 17, 18, 19]])]"
      ]
     },
     "execution_count": 51,
     "metadata": {},
     "output_type": "execute_result"
    }
   ],
   "source": [
    "np.split(array, [1, 3]) # split 2D array into 3 parts at index 1 and 3"
   ]
  },
  {
   "cell_type": "code",
   "execution_count": 52,
   "id": "a558d28b",
   "metadata": {},
   "outputs": [],
   "source": [
    "x , y, z = np.split(array, [1, 3]) # unpack the split arrays"
   ]
  },
  {
   "cell_type": "code",
   "execution_count": 53,
   "id": "cf4508ac",
   "metadata": {},
   "outputs": [
    {
     "data": {
      "text/plain": [
       "array([[0, 1, 2, 3]])"
      ]
     },
     "execution_count": 53,
     "metadata": {},
     "output_type": "execute_result"
    }
   ],
   "source": [
    "x"
   ]
  },
  {
   "cell_type": "code",
   "execution_count": 54,
   "id": "98e484d0",
   "metadata": {},
   "outputs": [
    {
     "data": {
      "text/plain": [
       "array([[ 4,  5,  6,  7],\n",
       "       [ 8,  9, 10, 11]])"
      ]
     },
     "execution_count": 54,
     "metadata": {},
     "output_type": "execute_result"
    }
   ],
   "source": [
    "y"
   ]
  },
  {
   "cell_type": "code",
   "execution_count": 55,
   "id": "262a243b",
   "metadata": {},
   "outputs": [
    {
     "data": {
      "text/plain": [
       "array([[12, 13, 14, 15],\n",
       "       [16, 17, 18, 19]])"
      ]
     },
     "execution_count": 55,
     "metadata": {},
     "output_type": "execute_result"
    }
   ],
   "source": [
    "z"
   ]
  },
  {
   "cell_type": "code",
   "execution_count": 56,
   "id": "f5fc6889",
   "metadata": {},
   "outputs": [
    {
     "data": {
      "text/plain": [
       "[array([[ 0],\n",
       "        [ 4],\n",
       "        [ 8],\n",
       "        [12],\n",
       "        [16]]),\n",
       " array([[ 1,  2],\n",
       "        [ 5,  6],\n",
       "        [ 9, 10],\n",
       "        [13, 14],\n",
       "        [17, 18]]),\n",
       " array([[ 3],\n",
       "        [ 7],\n",
       "        [11],\n",
       "        [15],\n",
       "        [19]])]"
      ]
     },
     "execution_count": 56,
     "metadata": {},
     "output_type": "execute_result"
    }
   ],
   "source": [
    "np.split(array, [1, 3], axis=1) # split 2D array into 3 parts at index 1 and 3 along columns"
   ]
  },
  {
   "cell_type": "markdown",
   "id": "937d529b",
   "metadata": {},
   "source": [
    "### hsplit function:"
   ]
  },
  {
   "cell_type": "code",
   "execution_count": 58,
   "id": "79c907a7",
   "metadata": {},
   "outputs": [
    {
     "data": {
      "text/plain": [
       "array([[ 0,  1,  2,  3],\n",
       "       [ 4,  5,  6,  7],\n",
       "       [ 8,  9, 10, 11],\n",
       "       [12, 13, 14, 15],\n",
       "       [16, 17, 18, 19]])"
      ]
     },
     "execution_count": 58,
     "metadata": {},
     "output_type": "execute_result"
    }
   ],
   "source": [
    "array"
   ]
  },
  {
   "cell_type": "code",
   "execution_count": 59,
   "id": "589a28b2",
   "metadata": {},
   "outputs": [
    {
     "data": {
      "text/plain": [
       "[array([[ 0],\n",
       "        [ 4],\n",
       "        [ 8],\n",
       "        [12],\n",
       "        [16]]),\n",
       " array([[ 1],\n",
       "        [ 5],\n",
       "        [ 9],\n",
       "        [13],\n",
       "        [17]]),\n",
       " array([[ 2],\n",
       "        [ 6],\n",
       "        [10],\n",
       "        [14],\n",
       "        [18]]),\n",
       " array([[ 3],\n",
       "        [ 7],\n",
       "        [11],\n",
       "        [15],\n",
       "        [19]])]"
      ]
     },
     "execution_count": 59,
     "metadata": {},
     "output_type": "execute_result"
    }
   ],
   "source": [
    "np.hsplit(array, 4) # split 2D array into 4 equal parts along columns"
   ]
  },
  {
   "cell_type": "code",
   "execution_count": 60,
   "id": "6bae4898",
   "metadata": {},
   "outputs": [
    {
     "data": {
      "text/plain": [
       "[array([[ 0],\n",
       "        [ 4],\n",
       "        [ 8],\n",
       "        [12],\n",
       "        [16]]),\n",
       " array([[ 1,  2],\n",
       "        [ 5,  6],\n",
       "        [ 9, 10],\n",
       "        [13, 14],\n",
       "        [17, 18]]),\n",
       " array([[ 3],\n",
       "        [ 7],\n",
       "        [11],\n",
       "        [15],\n",
       "        [19]])]"
      ]
     },
     "execution_count": 60,
     "metadata": {},
     "output_type": "execute_result"
    }
   ],
   "source": [
    "np.hsplit(array, [1, 3]) # split 2D array into 3 parts at index 1 and 3 along columns"
   ]
  },
  {
   "cell_type": "markdown",
   "id": "978db8e5",
   "metadata": {},
   "source": [
    "### vsplit function:"
   ]
  },
  {
   "cell_type": "code",
   "execution_count": 61,
   "id": "b424e1e8",
   "metadata": {},
   "outputs": [
    {
     "data": {
      "text/plain": [
       "array([[ 0,  1,  2,  3],\n",
       "       [ 4,  5,  6,  7],\n",
       "       [ 8,  9, 10, 11],\n",
       "       [12, 13, 14, 15],\n",
       "       [16, 17, 18, 19]])"
      ]
     },
     "execution_count": 61,
     "metadata": {},
     "output_type": "execute_result"
    }
   ],
   "source": [
    "array"
   ]
  },
  {
   "cell_type": "code",
   "execution_count": 63,
   "id": "6fe8f567",
   "metadata": {},
   "outputs": [
    {
     "data": {
      "text/plain": [
       "[array([[0, 1, 2, 3]]),\n",
       " array([[4, 5, 6, 7]]),\n",
       " array([[ 8,  9, 10, 11]]),\n",
       " array([[12, 13, 14, 15]]),\n",
       " array([[16, 17, 18, 19]])]"
      ]
     },
     "execution_count": 63,
     "metadata": {},
     "output_type": "execute_result"
    }
   ],
   "source": [
    "np.vsplit(array, 5) # split 2D array into 5 equal parts along rows"
   ]
  },
  {
   "cell_type": "code",
   "execution_count": 64,
   "id": "d0e2ca42",
   "metadata": {},
   "outputs": [
    {
     "data": {
      "text/plain": [
       "[array([[0, 1, 2, 3],\n",
       "        [4, 5, 6, 7]]),\n",
       " array([[ 8,  9, 10, 11],\n",
       "        [12, 13, 14, 15]]),\n",
       " array([[16, 17, 18, 19]])]"
      ]
     },
     "execution_count": 64,
     "metadata": {},
     "output_type": "execute_result"
    }
   ],
   "source": [
    "np.vsplit(array, [2, 4]) # split 2D array into 3 parts at index 2 and 4 along rows"
   ]
  },
  {
   "cell_type": "markdown",
   "id": "da30ee46",
   "metadata": {},
   "source": [
    "### sort() function:"
   ]
  },
  {
   "cell_type": "code",
   "execution_count": 67,
   "id": "672325aa",
   "metadata": {},
   "outputs": [],
   "source": [
    "variable = np.array([3,5,1,8,6,2,9])"
   ]
  },
  {
   "cell_type": "code",
   "execution_count": 68,
   "id": "7a658362",
   "metadata": {},
   "outputs": [
    {
     "data": {
      "text/plain": [
       "array([3, 5, 1, 8, 6, 2, 9])"
      ]
     },
     "execution_count": 68,
     "metadata": {},
     "output_type": "execute_result"
    }
   ],
   "source": [
    "variable"
   ]
  },
  {
   "cell_type": "code",
   "execution_count": 69,
   "id": "5501ad59",
   "metadata": {},
   "outputs": [
    {
     "data": {
      "text/plain": [
       "array([1, 2, 3, 5, 6, 8, 9])"
      ]
     },
     "execution_count": 69,
     "metadata": {},
     "output_type": "execute_result"
    }
   ],
   "source": [
    "np.sort(variable) # sort the array in ascending order"
   ]
  },
  {
   "cell_type": "code",
   "execution_count": 70,
   "id": "99abee5b",
   "metadata": {},
   "outputs": [
    {
     "data": {
      "text/plain": [
       "array([3, 5, 1, 8, 6, 2, 9])"
      ]
     },
     "execution_count": 70,
     "metadata": {},
     "output_type": "execute_result"
    }
   ],
   "source": [
    "variable"
   ]
  },
  {
   "cell_type": "code",
   "execution_count": 71,
   "id": "de177c69",
   "metadata": {},
   "outputs": [],
   "source": [
    "variable2 = np.sort(variable) # sort the array in ascending order and assign to a new variable"
   ]
  },
  {
   "cell_type": "code",
   "execution_count": 72,
   "id": "ff41bfba",
   "metadata": {},
   "outputs": [
    {
     "data": {
      "text/plain": [
       "array([1, 2, 3, 5, 6, 8, 9])"
      ]
     },
     "execution_count": 72,
     "metadata": {},
     "output_type": "execute_result"
    }
   ],
   "source": [
    "variable2"
   ]
  },
  {
   "cell_type": "code",
   "execution_count": 73,
   "id": "8b052ad1",
   "metadata": {},
   "outputs": [],
   "source": [
    "example = np.random.normal(30, 10, (4, 4))"
   ]
  },
  {
   "cell_type": "code",
   "execution_count": 74,
   "id": "a62128f7",
   "metadata": {},
   "outputs": [
    {
     "data": {
      "text/plain": [
       "array([[35.11096108, 25.48627747, 46.3801061 , 31.23403985],\n",
       "       [35.60070955, 15.70173294, 11.4632385 , 25.14825741],\n",
       "       [29.72616524, 26.95767204, 29.9574978 , 31.16288649],\n",
       "       [19.58915844, 28.68824863, 28.70896836, 22.7534081 ]])"
      ]
     },
     "execution_count": 74,
     "metadata": {},
     "output_type": "execute_result"
    }
   ],
   "source": [
    "example"
   ]
  },
  {
   "cell_type": "code",
   "execution_count": 75,
   "id": "4432e923",
   "metadata": {},
   "outputs": [
    {
     "data": {
      "text/plain": [
       "array([[19.58915844, 15.70173294, 11.4632385 , 22.7534081 ],\n",
       "       [29.72616524, 25.48627747, 28.70896836, 25.14825741],\n",
       "       [35.11096108, 26.95767204, 29.9574978 , 31.16288649],\n",
       "       [35.60070955, 28.68824863, 46.3801061 , 31.23403985]])"
      ]
     },
     "execution_count": 75,
     "metadata": {},
     "output_type": "execute_result"
    }
   ],
   "source": [
    "np.sort(example, axis=0) # sort the 2D array along columns"
   ]
  },
  {
   "cell_type": "code",
   "execution_count": 76,
   "id": "477eff4e",
   "metadata": {},
   "outputs": [
    {
     "data": {
      "text/plain": [
       "array([[25.48627747, 31.23403985, 35.11096108, 46.3801061 ],\n",
       "       [11.4632385 , 15.70173294, 25.14825741, 35.60070955],\n",
       "       [26.95767204, 29.72616524, 29.9574978 , 31.16288649],\n",
       "       [19.58915844, 22.7534081 , 28.68824863, 28.70896836]])"
      ]
     },
     "execution_count": 76,
     "metadata": {},
     "output_type": "execute_result"
    }
   ],
   "source": [
    "np.sort(example, axis=1) # sort the 2D array along rows"
   ]
  },
  {
   "cell_type": "code",
   "execution_count": null,
   "id": "c3f304ca",
   "metadata": {},
   "outputs": [],
   "source": []
  }
 ],
 "metadata": {
  "kernelspec": {
   "display_name": "base",
   "language": "python",
   "name": "python3"
  },
  "language_info": {
   "codemirror_mode": {
    "name": "ipython",
    "version": 3
   },
   "file_extension": ".py",
   "mimetype": "text/x-python",
   "name": "python",
   "nbconvert_exporter": "python",
   "pygments_lexer": "ipython3",
   "version": "3.11.8"
  }
 },
 "nbformat": 4,
 "nbformat_minor": 5
}
