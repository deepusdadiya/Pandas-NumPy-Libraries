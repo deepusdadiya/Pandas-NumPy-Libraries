import numpy as np
np.array([2, 4 , 6, 8])
array([2, 4, 6, 8])
variables = [5.8 , 9, 7, 5]
print(type(variables[0]))     # list can be of any type
print(type(variables[1]))
