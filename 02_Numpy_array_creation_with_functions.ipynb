{
 "cells": [
  {
   "cell_type": "markdown",
   "id": "71b1477f",
   "metadata": {},
   "source": [
    "### Create an array"
   ]
  },
  {
   "cell_type": "code",
   "execution_count": 1,
   "id": "6d681937",
   "metadata": {},
   "outputs": [],
   "source": [
    "import numpy as np"
   ]
  },
  {
   "cell_type": "code",
   "execution_count": 2,
   "id": "21f78ea8",
   "metadata": {},
   "outputs": [
    {
     "data": {
      "text/plain": [
       "array([2, 4, 6, 8])"
      ]
     },
     "execution_count": 2,
     "metadata": {},
     "output_type": "execute_result"
    }
   ],
   "source": [
    "np.array([2, 4 , 6, 8])"
   ]
  },
  {
   "cell_type": "code",
   "execution_count": 3,
   "id": "c38d1be1",
   "metadata": {},
   "outputs": [],
   "source": [
    "variables = [5.8 , 9, 7, 5]"
   ]
  },
  {
   "cell_type": "code",
   "execution_count": 4,
   "id": "3ca5a737",
   "metadata": {},
   "outputs": [
    {
     "name": "stdout",
     "output_type": "stream",
     "text": [
      "<class 'float'>\n",
      "<class 'int'>\n"
     ]
    }
   ],
   "source": [
    "print(type(variables[0]))     # list can be of any type\n",
    "print(type(variables[1]))"
   ]
  },
  {
   "cell_type": "code",
   "execution_count": 5,
   "id": "7d3f60f8",
   "metadata": {},
   "outputs": [],
   "source": [
    "new_variable = np.array([5.8 , 9, 7, 5])"
   ]
  },
  {
   "cell_type": "code",
   "execution_count": 6,
   "id": "c4cde865",
   "metadata": {},
   "outputs": [
    {
     "data": {
      "text/plain": [
       "array([5.8, 9. , 7. , 5. ])"
      ]
     },
     "execution_count": 6,
     "metadata": {},
     "output_type": "execute_result"
    }
   ],
   "source": [
    "new_variable"
   ]
  },
  {
   "cell_type": "code",
   "execution_count": 7,
   "id": "25f74a44",
   "metadata": {},
   "outputs": [
    {
     "name": "stdout",
     "output_type": "stream",
     "text": [
      "<class 'numpy.float64'>\n",
      "<class 'numpy.float64'>\n"
     ]
    }
   ],
   "source": [
    "print(type(new_variable[0]))    # array has same type as the first element\n",
    "print(type(new_variable[1]))"
   ]
  },
  {
   "cell_type": "code",
   "execution_count": 8,
   "id": "a668cab0",
   "metadata": {},
   "outputs": [],
   "source": [
    "new_variable_2 = np.array([5.8 , 9, 7, 5], dtype = int)   # convert to int"
   ]
  },
  {
   "cell_type": "code",
   "execution_count": 9,
   "id": "e3b82b4e",
   "metadata": {},
   "outputs": [
    {
     "data": {
      "text/plain": [
       "array([5, 9, 7, 5])"
      ]
     },
     "execution_count": 9,
     "metadata": {},
     "output_type": "execute_result"
    }
   ],
   "source": [
    "new_variable_2"
   ]
  },
  {
   "cell_type": "markdown",
   "id": "ce900885",
   "metadata": {},
   "source": [
    "### Creating a numpy array with zeros() function"
   ]
  },
  {
   "cell_type": "code",
   "execution_count": 10,
   "id": "b299d27d",
   "metadata": {},
   "outputs": [
    {
     "data": {
      "text/plain": [
       "array([0., 0., 0., 0., 0.])"
      ]
     },
     "execution_count": 10,
     "metadata": {},
     "output_type": "execute_result"
    }
   ],
   "source": [
    "np.zeros(5)   # create an array of zeros"
   ]
  },
  {
   "cell_type": "code",
   "execution_count": 11,
   "id": "92dc65a0",
   "metadata": {},
   "outputs": [
    {
     "data": {
      "text/plain": [
       "array([[0, 0, 0, 0, 0],\n",
       "       [0, 0, 0, 0, 0],\n",
       "       [0, 0, 0, 0, 0]])"
      ]
     },
     "execution_count": 11,
     "metadata": {},
     "output_type": "execute_result"
    }
   ],
   "source": [
    "np.zeros((3, 5), dtype = int) # create a 3x5 array of zeros"
   ]
  },
  {
   "cell_type": "markdown",
   "id": "e8bc76c5",
   "metadata": {},
   "source": [
    "### Creating numpy array with ones() function"
   ]
  },
  {
   "cell_type": "code",
   "execution_count": 12,
   "id": "980ff10f",
   "metadata": {},
   "outputs": [
    {
     "data": {
      "text/plain": [
       "array([1., 1., 1., 1., 1., 1., 1., 1., 1., 1.])"
      ]
     },
     "execution_count": 12,
     "metadata": {},
     "output_type": "execute_result"
    }
   ],
   "source": [
    "np.ones(10)   # create an array of ones"
   ]
  },
  {
   "cell_type": "code",
   "execution_count": 13,
   "id": "2d9d01b5",
   "metadata": {},
   "outputs": [
    {
     "data": {
      "text/plain": [
       "array([[[1, 1, 1, 1, 1],\n",
       "        [1, 1, 1, 1, 1],\n",
       "        [1, 1, 1, 1, 1],\n",
       "        [1, 1, 1, 1, 1]],\n",
       "\n",
       "       [[1, 1, 1, 1, 1],\n",
       "        [1, 1, 1, 1, 1],\n",
       "        [1, 1, 1, 1, 1],\n",
       "        [1, 1, 1, 1, 1]],\n",
       "\n",
       "       [[1, 1, 1, 1, 1],\n",
       "        [1, 1, 1, 1, 1],\n",
       "        [1, 1, 1, 1, 1],\n",
       "        [1, 1, 1, 1, 1]]])"
      ]
     },
     "execution_count": 13,
     "metadata": {},
     "output_type": "execute_result"
    }
   ],
   "source": [
    "np.ones((3, 4, 5), dtype=int) # create a 3x4x5 array of ones"
   ]
  },
  {
   "cell_type": "markdown",
   "id": "0be76e86",
   "metadata": {},
   "source": [
    "### Creating numpy array with full() function"
   ]
  },
  {
   "cell_type": "code",
   "execution_count": 14,
   "id": "cc86a9ef",
   "metadata": {},
   "outputs": [
    {
     "data": {
      "text/plain": [
       "array([5, 5, 5, 5, 5, 5, 5, 5])"
      ]
     },
     "execution_count": 14,
     "metadata": {},
     "output_type": "execute_result"
    }
   ],
   "source": [
    "np.full(8, 5)"
   ]
  },
  {
   "cell_type": "code",
   "execution_count": 15,
   "id": "41c174f8",
   "metadata": {},
   "outputs": [
    {
     "data": {
      "text/plain": [
       "array([[6, 6, 6],\n",
       "       [6, 6, 6]])"
      ]
     },
     "execution_count": 15,
     "metadata": {},
     "output_type": "execute_result"
    }
   ],
   "source": [
    "np.full((2, 3), 6, dtype = int) # create a 2x3 array of 6s"
   ]
  },
  {
   "cell_type": "markdown",
   "id": "f73aff17",
   "metadata": {},
   "source": [
    "### Creating numpy array with arange() function"
   ]
  },
  {
   "cell_type": "markdown",
   "id": "35f89e42",
   "metadata": {},
   "source": [
    "syntax: arange(start, stop, step, dtype)"
   ]
  },
  {
   "cell_type": "code",
   "execution_count": 16,
   "id": "f218fcc6",
   "metadata": {},
   "outputs": [
    {
     "data": {
      "text/plain": [
       "array([0, 1, 2, 3, 4])"
      ]
     },
     "execution_count": 16,
     "metadata": {},
     "output_type": "execute_result"
    }
   ],
   "source": [
    "np.arange(5)"
   ]
  },
  {
   "cell_type": "code",
   "execution_count": 17,
   "id": "607afc46",
   "metadata": {},
   "outputs": [],
   "source": [
    "example = np.arange(3, 10, dtype=float)"
   ]
  },
  {
   "cell_type": "code",
   "execution_count": 18,
   "id": "ef8a1aa4",
   "metadata": {},
   "outputs": [
    {
     "name": "stdout",
     "output_type": "stream",
     "text": [
      "[3. 4. 5. 6. 7. 8. 9.]\n"
     ]
    }
   ],
   "source": [
    "print(example)"
   ]
  },
  {
   "cell_type": "code",
   "execution_count": 19,
   "id": "e00ec701",
   "metadata": {},
   "outputs": [
    {
     "name": "stdout",
     "output_type": "stream",
     "text": [
      "<class 'numpy.float64'>\n"
     ]
    }
   ],
   "source": [
    "print(type(example[0]))  # array has same type as the first element"
   ]
  },
  {
   "cell_type": "markdown",
   "id": "a1d9d790",
   "metadata": {},
   "source": [
    "### Creating numpy array with eye() function"
   ]
  },
  {
   "cell_type": "markdown",
   "id": "73f41cf1",
   "metadata": {},
   "source": [
    "Eye() function allows us to create a unit matrix. \n",
    "\n",
    "A unit matrix is a square matrix with ones on the diagonal and zeros elsewhere."
   ]
  },
  {
   "cell_type": "code",
   "execution_count": 20,
   "id": "4625cecd",
   "metadata": {},
   "outputs": [
    {
     "data": {
      "text/plain": [
       "array([[1., 0., 0.],\n",
       "       [0., 1., 0.],\n",
       "       [0., 0., 1.]])"
      ]
     },
     "execution_count": 20,
     "metadata": {},
     "output_type": "execute_result"
    }
   ],
   "source": [
    "np.eye(3)"
   ]
  },
  {
   "cell_type": "code",
   "execution_count": 21,
   "id": "13fe4908",
   "metadata": {},
   "outputs": [
    {
     "data": {
      "text/plain": [
       "array([[1., 0.],\n",
       "       [0., 1.],\n",
       "       [0., 0.]])"
      ]
     },
     "execution_count": 21,
     "metadata": {},
     "output_type": "execute_result"
    }
   ],
   "source": [
    "np.eye(3, 2)"
   ]
  },
  {
   "cell_type": "code",
   "execution_count": 22,
   "id": "f5f7c1a6",
   "metadata": {},
   "outputs": [
    {
     "data": {
      "text/plain": [
       "array([[ True, False],\n",
       "       [False,  True],\n",
       "       [False, False]])"
      ]
     },
     "execution_count": 22,
     "metadata": {},
     "output_type": "execute_result"
    }
   ],
   "source": [
    "np.eye(3, 2, dtype=bool) # create a 3x2 identity matrix of booleans"
   ]
  },
  {
   "cell_type": "markdown",
   "id": "35ec322e",
   "metadata": {},
   "source": [
    "### Creating numpy array with linspace() function"
   ]
  },
  {
   "cell_type": "code",
   "execution_count": 23,
   "id": "7e675ebe",
   "metadata": {},
   "outputs": [
    {
     "data": {
      "text/plain": [
       "array([10.        , 12.22222222, 14.44444444, 16.66666667, 18.88888889,\n",
       "       21.11111111, 23.33333333, 25.55555556, 27.77777778, 30.        ])"
      ]
     },
     "execution_count": 23,
     "metadata": {},
     "output_type": "execute_result"
    }
   ],
   "source": [
    "np.linspace(10, 30, 10)"
   ]
  },
  {
   "cell_type": "markdown",
   "id": "04f9faac",
   "metadata": {},
   "source": [
    "### Creating numpy array with random() function"
   ]
  },
  {
   "cell_type": "code",
   "execution_count": 24,
   "id": "4a527d22",
   "metadata": {},
   "outputs": [
    {
     "data": {
      "text/plain": [
       "array([0.1353201 , 0.23912862, 0.72246112, 0.76028184, 0.57195043])"
      ]
     },
     "execution_count": 24,
     "metadata": {},
     "output_type": "execute_result"
    }
   ],
   "source": [
    "np.random.rand(5)    "
   ]
  },
  {
   "cell_type": "code",
   "execution_count": 25,
   "id": "2f9bdfe9",
   "metadata": {},
   "outputs": [
    {
     "data": {
      "text/plain": [
       "array([[0.99033401, 0.3357502 , 0.56248987],\n",
       "       [0.96712566, 0.81555156, 0.19673241]])"
      ]
     },
     "execution_count": 25,
     "metadata": {},
     "output_type": "execute_result"
    }
   ],
   "source": [
    "np.random.rand(2, 3) # create a 2x3 array of random floats between 0 and 1"
   ]
  },
  {
   "cell_type": "code",
   "execution_count": 26,
   "id": "9b52d2ee",
   "metadata": {},
   "outputs": [
    {
     "data": {
      "text/plain": [
       "array([-0.19708134,  0.15143318, -0.41271585, -0.4980306 , -0.78859955])"
      ]
     },
     "execution_count": 26,
     "metadata": {},
     "output_type": "execute_result"
    }
   ],
   "source": [
    "np.random.randn(5)   # create a 1D array of random floats from standard normal distribution"
   ]
  },
  {
   "cell_type": "code",
   "execution_count": 27,
   "id": "b7519d7c",
   "metadata": {},
   "outputs": [
    {
     "data": {
      "text/plain": [
       "array([[19.84559531, 29.31048523, 25.43671145],\n",
       "       [18.8571471 , 21.53305872, 23.79161686],\n",
       "       [14.94586255, 22.31963956, 20.81126063],\n",
       "       [12.73946936, 23.78389082, 26.45870673]])"
      ]
     },
     "execution_count": 27,
     "metadata": {},
     "output_type": "execute_result"
    }
   ],
   "source": [
    "np.random.normal(20, 5, (4, 3)) # create a 4x3 array of random floats from normal distribution with mean 20 and std 5"
   ]
  },
  {
   "cell_type": "code",
   "execution_count": 28,
   "id": "c8d5a27d",
   "metadata": {},
   "outputs": [
    {
     "data": {
      "text/plain": [
       "array([[7, 7, 2, 0],\n",
       "       [8, 1, 7, 4],\n",
       "       [1, 5, 7, 0],\n",
       "       [1, 1, 7, 4]])"
      ]
     },
     "execution_count": 28,
     "metadata": {},
     "output_type": "execute_result"
    }
   ],
   "source": [
    "np.random.randint(0, 10, (4, 4)) # create a 4x4 array of random integers between 0 and 10"
   ]
  },
  {
   "cell_type": "markdown",
   "id": "b7b043fb",
   "metadata": {},
   "source": [
    "### Properties of numpy array"
   ]
  },
  {
   "cell_type": "markdown",
   "id": "a034f9db",
   "metadata": {},
   "source": [
    "ndim: Returns the number of dimensions of the array.\n",
    "\n",
    "shape: Returns the shape of the array.\n",
    "\n",
    "size: Returns the total number of elements in the array.\n",
    "\n",
    "dtype: Returns the data type of the elements in the array.\n",
    "\n",
    "itemsize: Returns the size (in bytes) of each element in the array.\n",
    "\n",
    "nbytes: Returns the total number of bytes used by the array."
   ]
  },
  {
   "cell_type": "code",
   "execution_count": 29,
   "id": "d2c14b0f",
   "metadata": {},
   "outputs": [],
   "source": [
    "matrix = np.random.randint(10, 50, (5, 4))"
   ]
  },
  {
   "cell_type": "code",
   "execution_count": 30,
   "id": "9045f2ab",
   "metadata": {},
   "outputs": [
    {
     "data": {
      "text/plain": [
       "array([[42, 30, 45, 25],\n",
       "       [25, 42, 42, 25],\n",
       "       [28, 45, 35, 41],\n",
       "       [46, 22, 45, 46],\n",
       "       [45, 28, 34, 33]])"
      ]
     },
     "execution_count": 30,
     "metadata": {},
     "output_type": "execute_result"
    }
   ],
   "source": [
    "matrix"
   ]
  },
  {
   "cell_type": "code",
   "execution_count": 31,
   "id": "bcf959de",
   "metadata": {},
   "outputs": [
    {
     "data": {
      "text/plain": [
       "2"
      ]
     },
     "execution_count": 31,
     "metadata": {},
     "output_type": "execute_result"
    }
   ],
   "source": [
    "matrix.ndim"
   ]
  },
  {
   "cell_type": "code",
   "execution_count": 32,
   "id": "35bea7ae",
   "metadata": {},
   "outputs": [
    {
     "data": {
      "text/plain": [
       "(5, 4)"
      ]
     },
     "execution_count": 32,
     "metadata": {},
     "output_type": "execute_result"
    }
   ],
   "source": [
    "matrix.shape"
   ]
  },
  {
   "cell_type": "code",
   "execution_count": 33,
   "id": "8a86afa5",
   "metadata": {},
   "outputs": [
    {
     "data": {
      "text/plain": [
       "20"
      ]
     },
     "execution_count": 33,
     "metadata": {},
     "output_type": "execute_result"
    }
   ],
   "source": [
    "matrix.size"
   ]
  },
  {
   "cell_type": "code",
   "execution_count": 34,
   "id": "71bc696c",
   "metadata": {},
   "outputs": [
    {
     "data": {
      "text/plain": [
       "dtype('int64')"
      ]
     },
     "execution_count": 34,
     "metadata": {},
     "output_type": "execute_result"
    }
   ],
   "source": [
    "matrix.dtype"
   ]
  }
 ],
 "metadata": {
  "kernelspec": {
   "display_name": "Python 3",
   "language": "python",
   "name": "python3"
  },
  "language_info": {
   "codemirror_mode": {
    "name": "ipython",
    "version": 3
   },
   "file_extension": ".py",
   "mimetype": "text/x-python",
   "name": "python",
   "nbconvert_exporter": "python",
   "pygments_lexer": "ipython3",
   "version": "3.11.9"
  }
 },
 "nbformat": 4,
 "nbformat_minor": 5
}
